{
 "cells": [
  {
   "cell_type": "markdown",
   "metadata": {},
   "source": [
    "Importing the libraries"
   ]
  },
  {
   "cell_type": "code",
   "execution_count": 1,
   "metadata": {},
   "outputs": [],
   "source": [
    "import numpy as np\n",
    "import pandas as pd"
   ]
  },
  {
   "cell_type": "markdown",
   "metadata": {},
   "source": [
    "Importing the dataset"
   ]
  },
  {
   "cell_type": "code",
   "execution_count": 2,
   "metadata": {},
   "outputs": [],
   "source": [
    "dataset = pd.read_csv('Breast_cancer.csv')\n",
    "X = dataset.iloc[:, 1:-1].values\n",
    "y = dataset.iloc[:, -1].values"
   ]
  },
  {
   "cell_type": "markdown",
   "metadata": {},
   "source": [
    "Splitting the dataset into the Training set and Test set"
   ]
  },
  {
   "cell_type": "code",
   "execution_count": 3,
   "metadata": {},
   "outputs": [],
   "source": [
    "from sklearn.model_selection import train_test_split\n",
    "X_train, X_test, y_train, y_test = train_test_split(X, y, test_size = 0.2, random_state = 0)"
   ]
  },
  {
   "cell_type": "markdown",
   "metadata": {},
   "source": [
    "Training the Logistic Regression model on the Training set"
   ]
  },
  {
   "cell_type": "code",
   "execution_count": 4,
   "metadata": {},
   "outputs": [
    {
     "output_type": "execute_result",
     "data": {
      "text/plain": "LogisticRegression(random_state=0)"
     },
     "metadata": {},
     "execution_count": 4
    }
   ],
   "source": [
    "from sklearn.linear_model import LogisticRegression\n",
    "classifier = LogisticRegression(random_state = 0)\n",
    "classifier.fit(X_train, y_train)"
   ]
  },
  {
   "cell_type": "markdown",
   "metadata": {},
   "source": [
    "Predicting the Test set results"
   ]
  },
  {
   "cell_type": "code",
   "execution_count": 5,
   "metadata": {
    "tags": []
   },
   "outputs": [
    {
     "output_type": "stream",
     "name": "stdout",
     "text": "[[2 2]\n [2 2]\n [4 4]\n [4 4]\n [2 2]\n [2 2]\n [2 2]\n [4 4]\n [2 2]\n [2 2]\n [4 4]\n [2 2]\n [4 4]\n [2 2]\n [2 2]\n [2 2]\n [4 4]\n [4 4]\n [4 4]\n [2 2]\n [2 2]\n [2 2]\n [4 4]\n [2 2]\n [4 4]\n [4 4]\n [2 2]\n [2 2]\n [2 2]\n [4 4]\n [2 2]\n [4 4]\n [4 4]\n [2 2]\n [2 2]\n [2 2]\n [4 4]\n [4 4]\n [2 2]\n [4 4]\n [2 2]\n [2 2]\n [2 2]\n [2 2]\n [2 2]\n [2 2]\n [2 2]\n [4 4]\n [2 2]\n [2 2]\n [4 4]\n [2 2]\n [4 4]\n [2 2]\n [2 2]\n [2 2]\n [4 4]\n [4 2]\n [2 2]\n [4 4]\n [2 2]\n [2 2]\n [2 2]\n [2 2]\n [2 2]\n [2 2]\n [2 2]\n [2 2]\n [4 4]\n [4 4]\n [2 2]\n [2 2]\n [2 2]\n [2 2]\n [2 2]\n [2 2]\n [4 4]\n [2 2]\n [2 2]\n [2 2]\n [4 4]\n [2 2]\n [4 4]\n [2 2]\n [2 2]\n [4 4]\n [2 2]\n [4 2]\n [4 4]\n [2 2]\n [4 4]\n [2 2]\n [4 4]\n [4 4]\n [2 4]\n [4 2]\n [4 4]\n [4 4]\n [4 4]\n [2 2]\n [2 2]\n [2 2]\n [4 4]\n [4 4]\n [2 2]\n [2 2]\n [4 4]\n [2 4]\n [2 2]\n [2 2]\n [4 4]\n [2 2]\n [2 2]\n [4 4]\n [2 2]\n [2 2]\n [2 2]\n [2 4]\n [2 2]\n [2 2]\n [2 2]\n [4 4]\n [2 2]\n [2 2]\n [4 4]\n [4 4]\n [2 2]\n [4 4]\n [2 2]\n [4 4]\n [2 2]\n [2 2]\n [4 4]\n [2 2]\n [2 2]\n [4 4]\n [2 2]]\n"
    }
   ],
   "source": [
    "y_pred = classifier.predict(X_test)\n",
    "np.set_printoptions(precision=2)\n",
    "print(np.concatenate((y_pred.reshape(len(y_pred),1), y_test.reshape(len(y_test),1)),1))"
   ]
  },
  {
   "cell_type": "markdown",
   "metadata": {},
   "source": [
    "Making the Confusion Matrix"
   ]
  },
  {
   "cell_type": "code",
   "execution_count": 6,
   "metadata": {
    "tags": []
   },
   "outputs": [
    {
     "output_type": "stream",
     "name": "stdout",
     "text": "[[84  3]\n [ 3 47]]\n"
    }
   ],
   "source": [
    "from sklearn.metrics import confusion_matrix\n",
    "cm = confusion_matrix(y_test, y_pred)\n",
    "print(cm)"
   ]
  },
  {
   "cell_type": "markdown",
   "metadata": {},
   "source": [
    "Computing the accuracy with k-Fold Cross Validation"
   ]
  },
  {
   "cell_type": "code",
   "execution_count": 7,
   "metadata": {
    "tags": []
   },
   "outputs": [
    {
     "output_type": "stream",
     "name": "stdout",
     "text": "Accuracy: 96.70 %\nStandard Deviation: 1.97 %\n"
    }
   ],
   "source": [
    "from sklearn.model_selection import cross_val_score\n",
    "accuracies = cross_val_score(estimator = classifier, X = X_train, y = y_train, cv = 10)\n",
    "print(\"Accuracy: {:.2f} %\".format(accuracies.mean() * 100))\n",
    "print(\"Standard Deviation: {:.2f} %\".format(accuracies.std()*100))"
   ]
  },
  {
   "cell_type": "markdown",
   "metadata": {},
   "source": [
    "Input data for Benign or Malignant prediction"
   ]
  },
  {
   "cell_type": "code",
   "execution_count": 8,
   "metadata": {},
   "outputs": [],
   "source": [
    "a = int(input('Enter Clump Thickness:'))\n",
    "b = int(input('Enter Uniformity of Cell Size:'))\n",
    "c = int(input('Enter Uniformity of Cell Shape:'))\n",
    "d = int(input('Enter Marginal Adhesion:'))\n",
    "e = int(input('Enter Single Epithelial Cell Size:'))\n",
    "f = int(input('Enter Bare Nuclei:'))\n",
    "g = int(input('Enter Bland Chromatin:'))\n",
    "h = int(input('Enter Normal Nucleoli:'))\n",
    "i = int(input('Enter Mitoses:'))"
   ]
  },
  {
   "cell_type": "markdown",
   "metadata": {},
   "source": [
    "Prediciting the result"
   ]
  },
  {
   "cell_type": "code",
   "execution_count": 9,
   "metadata": {},
   "outputs": [],
   "source": [
    "out = classifier.predict([[a, b, c, d, e, f, g, h, i]])"
   ]
  },
  {
   "cell_type": "markdown",
   "metadata": {},
   "source": [
    "Printing the output"
   ]
  },
  {
   "cell_type": "code",
   "execution_count": 10,
   "metadata": {
    "tags": []
   },
   "outputs": [
    {
     "output_type": "stream",
     "name": "stdout",
     "text": "Malignant\n"
    }
   ],
   "source": [
    "if out == [4]:\n",
    "    print('Malignant')\n",
    "elif out == [2]:\n",
    "    print('Benign')"
   ]
  }
 ],
 "metadata": {
  "language_info": {
   "codemirror_mode": {
    "name": "ipython",
    "version": 3
   },
   "file_extension": ".py",
   "mimetype": "text/x-python",
   "name": "python",
   "nbconvert_exporter": "python",
   "pygments_lexer": "ipython3",
   "version": "3.8.1-final"
  },
  "orig_nbformat": 2,
  "kernelspec": {
   "name": "python38132bited845d9158f84df3847087634190e185",
   "display_name": "Python 3.8.1 32-bit"
  }
 },
 "nbformat": 4,
 "nbformat_minor": 2
}